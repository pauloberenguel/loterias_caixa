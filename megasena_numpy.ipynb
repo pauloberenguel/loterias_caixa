{
 "cells": [
  {
   "cell_type": "code",
   "execution_count": 5,
   "metadata": {},
   "outputs": [
    {
     "data": {
      "image/png": "[encoded data removed]",
      "text/plain": [
       "<Figure size 432x288 with 1 Axes>"
      ]
     },
     "metadata": {
      "needs_background": "light"
     },
     "output_type": "display_data"
    }
   ],
   "source": [
    "import numpy as np\n",
    "import matplotlib.pyplot as plt\n",
    "\n",
    "tentativas = 15000\n",
    "\n",
    "np.random.seed()\n",
    "\n",
    "\n",
    "#Geração de bilhetes aleatórios\n",
    "apostas = []\n",
    "for i in range(tentativas) :\n",
    "    random_bet = []\n",
    "    for x in range(6) :\n",
    "        number = np.random.randint(1,60)\n",
    "        while number in random_bet:\n",
    "            number = np.random.randint(1,60)\n",
    "        random_bet.append(number)\n",
    "    apostas.append(random_bet)\n",
    "\n",
    "#Sorteio\n",
    "sorteio = []\n",
    "for x in range(6) :\n",
    "    number = np.random.randint(1,60)\n",
    "    while number in sorteio:\n",
    "        number = np.random.randint(1,60)\n",
    "    sorteio.append(number)\n",
    "\n",
    "#Contagem de acertos\n",
    "acertos=[]\n",
    "for i in range(len(apostas)):\n",
    "    temp_acertos = 0\n",
    "    for y in range(6):\n",
    "        if apostas[i][y] in sorteio:\n",
    "            temp_acertos +=1\n",
    "    acertos.append(temp_acertos)\n",
    "\n",
    "#Histograma de acertos\n",
    "plt.hist(acertos, bins=[0,1,2,3,4,5,6], align='mid')\n",
    "plt.show()\n"
   ]
  },
  {
   "cell_type": "code",
   "execution_count": 6,
   "metadata": {},
   "outputs": [
    {
     "name": "stdout",
     "output_type": "stream",
     "text": [
      "Número de bilhetes: 15000\n",
      "Quantidade de senas: 0\n",
      "Quantidade de quinas: 0\n",
      "Quantidade de quadras: 3\n"
     ]
    }
   ],
   "source": [
    "np_acertos = np.array(acertos)\n",
    "print('Número de bilhetes: ' + str(len(apostas)))\n",
    "print(\"Quantidade de senas: \" + str(np.count_nonzero(np_acertos ==6)))\n",
    "print('Quantidade de quinas: ' + str(np.count_nonzero(np_acertos ==5)))\n",
    "print('Quantidade de quadras: ' + str(np.count_nonzero(np_acertos ==4)))"
   ]
  },
  {
   "cell_type": "code",
   "execution_count": null,
   "metadata": {},
   "outputs": [],
   "source": []
  }
 ],
 "metadata": {
  "kernelspec": {
   "display_name": "Python 3.10.7 64-bit",
   "language": "python",
   "name": "python3"
  },
  "language_info": {
   "codemirror_mode": {
    "name": "ipython",
    "version": 3
   },
   "file_extension": ".py",
   "mimetype": "text/x-python",
   "name": "python",
   "nbconvert_exporter": "python",
   "pygments_lexer": "ipython3",
   "version": "3.10.7"
  },
  "orig_nbformat": 4,
  "vscode": {
   "interpreter": {
    "hash": "7d301e993b21968a4641f4b5ef120da95cc7993199e0250222ac299c881dccbe"
   }
  }
 },
 "nbformat": 4,
 "nbformat_minor": 2
}
