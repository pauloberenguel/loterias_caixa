{
  "nbformat": 4,
  "nbformat_minor": 0,
  "metadata": {
    "colab": {
      "provenance": [],
      "authorship_tag": "ABX9TyPKCtMfHS6zSTpQqclLRdDP",
      "include_colab_link": true
    },
    "kernelspec": {
      "name": "python3",
      "display_name": "Python 3"
    },
    "language_info": {
      "name": "python"
    }
  },
  "cells": [
    {
      "cell_type": "markdown",
      "metadata": {
        "id": "view-in-github",
        "colab_type": "text"
      },
      "source": [
        "<a href=\"https://colab.research.google.com/github/pauloberenguel/loterias_caixa/blob/main/lotofacil.ipynb\" target=\"_parent\"><img src=\"https://colab.research.google.com/assets/colab-badge.svg\" alt=\"Open In Colab\"/></a>"
      ]
    },
    {
      "cell_type": "code",
      "execution_count": 18,
      "metadata": {
        "colab": {
          "base_uri": "https://localhost:8080/",
          "height": 586
        },
        "id": "-yzHFa2kp5Fv",
        "outputId": "f63d4885-c149-4485-8630-45b7f8cf8e8b"
      },
      "outputs": [
        {
          "output_type": "display_data",
          "data": {
            "text/plain": [
              "<Figure size 640x480 with 1 Axes>"
            ],
            "image/png": "[encoded data removed]"
          },
          "metadata": {}
        },
        {
          "output_type": "stream",
          "name": "stdout",
          "text": [
            "Número de bilhetes: 1000\n",
            "Quantidade de prêmio total (R$500.000,00): 0\n",
            "Quantidade de 14 acertos (R$1500,00): 0\n",
            "Quantidade de 13 acertos (R$30,00): 4\n",
            "Quantidade de 12 acertos (R$12,00): 31\n",
            "Quantidade de 11 acertos (R$6,00): 152\n",
            "Prêmio total: R$1404\n",
            "Valor gasto em apostas: R$2500.0\n",
            "Quantidade de 0 a 10 acertos acumulados: 813\n"
          ]
        }
      ],
      "source": [
        "import numpy as np\n",
        "import matplotlib.pyplot as plt\n",
        "\n",
        "tentativas = 1000\n",
        "\n",
        "\n",
        "np.random.seed()\n",
        "\n",
        "\n",
        "#Geração de bilhetes aleatórios\n",
        "apostas = []\n",
        "for i in range(tentativas) :\n",
        "    random_bet = []\n",
        "    for x in range(15) :\n",
        "        number = np.random.randint(1,25)\n",
        "        while number in random_bet:\n",
        "            number = np.random.randint(1,25)\n",
        "        random_bet.append(number)\n",
        "    apostas.append(random_bet)\n",
        "\n",
        "#Sorteio\n",
        "sorteio = []\n",
        "for x in range(15) :\n",
        "    number = np.random.randint(1,25)\n",
        "    while number in sorteio:\n",
        "        number = np.random.randint(1,25)\n",
        "    sorteio.append(number)\n",
        "\n",
        "#Contagem de acertos\n",
        "acertos=[]\n",
        "for i in range(len(apostas)):\n",
        "    temp_acertos = 0\n",
        "    for y in range(15):\n",
        "        if apostas[i][y] in sorteio:\n",
        "            temp_acertos +=1\n",
        "    acertos.append(temp_acertos)\n",
        "\n",
        "#Histograma de acertos\n",
        "plt.hist(acertos, bins=[0,1,2,3,4,5,6,7,8,9,10,11,12,13,14,15], align='mid')\n",
        "plt.show()\n",
        "\n",
        "np_acertos = np.array(acertos)\n",
        "print('Número de bilhetes: ' + str(len(apostas)))\n",
        "print(\"Quantidade de prêmio total (R$500.000,00): \" + str(np.count_nonzero(np_acertos ==15)))\n",
        "print('Quantidade de 14 acertos (R$1500,00): ' + str(np.count_nonzero(np_acertos ==14)))\n",
        "print('Quantidade de 13 acertos (R$30,00): ' + str(np.count_nonzero(np_acertos ==13)))\n",
        "print('Quantidade de 12 acertos (R$12,00): ' + str(np.count_nonzero(np_acertos ==12)))\n",
        "print('Quantidade de 11 acertos (R$6,00): ' + str(np.count_nonzero(np_acertos ==11)))\n",
        "\n",
        "premiototal = np.count_nonzero(np_acertos ==15)*500000\n",
        "premiototal = premiototal + np.count_nonzero(np_acertos ==14)*1500\n",
        "premiototal = premiototal + np.count_nonzero(np_acertos ==13)*30\n",
        "premiototal = premiototal + np.count_nonzero(np_acertos ==12)*12\n",
        "premiototal = premiototal + np.count_nonzero(np_acertos ==11)*6\n",
        "\n",
        "print('Prêmio total: R$' + str(premiototal))\n",
        "print('Valor gasto em apostas: R$' + str(tentativas * 2.5))\n",
        "\n",
        "print('Quantidade de 0 a 10 acertos acumulados: ' + str(np.count_nonzero(np_acertos <=10)))"
      ]
    }
  ]
}