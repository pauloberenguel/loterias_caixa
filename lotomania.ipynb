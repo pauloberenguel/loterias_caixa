{
  "nbformat": 4,
  "nbformat_minor": 0,
  "metadata": {
    "colab": {
      "provenance": [],
      "authorship_tag": "ABX9TyNKBob1+y6c3j9oDVMBO4o1",
      "include_colab_link": true
    },
    "kernelspec": {
      "name": "python3",
      "display_name": "Python 3"
    },
    "language_info": {
      "name": "python"
    }
  },
  "cells": [
    {
      "cell_type": "markdown",
      "metadata": {
        "id": "view-in-github",
        "colab_type": "text"
      },
      "source": [
        "<a href=\"https://colab.research.google.com/github/pauloberenguel/loterias_caixa/blob/main/lotomania.ipynb\" target=\"_parent\"><img src=\"https://colab.research.google.com/assets/colab-badge.svg\" alt=\"Open In Colab\"/></a>"
      ]
    },
    {
      "cell_type": "code",
      "execution_count": 11,
      "metadata": {
        "colab": {
          "base_uri": "https://localhost:8080/",
          "height": 604
        },
        "id": "C8lWFVMoDube",
        "outputId": "fa141986-d5b5-4143-c1cf-8f829b482f3c"
      },
      "outputs": [
        {
          "output_type": "display_data",
          "data": {
            "text/plain": [
              "<Figure size 640x480 with 1 Axes>"
            ],
            "image/png": "[encoded data removed]"
          },
          "metadata": {}
        },
        {
          "output_type": "stream",
          "name": "stdout",
          "text": [
            "Número de bilhetes: 1000\n",
            "Quantidade de prêmio total (R$2.000.000,00): 0\n",
            "Quantidade de 19 acertos (R$30.000,00): 0\n",
            "Quantidade de 18 acertos (R$1.800,00): 0\n",
            "Quantidade de 17 acertos (R$120,00): 0\n",
            "Quantidade de 16 acerto (R$20,00): 0\n",
            "Quantidade de 0 acertos (R$225.000,00): 10\n",
            "Prêmio total: R$4950000\n",
            "Valor gasto em apostas: R$3000\n",
            "Quantidade de 1 a 15 acertos acumulados: 990\n"
          ]
        }
      ],
      "source": [
        "import numpy as np\n",
        "import matplotlib.pyplot as plt\n",
        "\n",
        "tentativas = 1000\n",
        "\n",
        "np.random.seed()\n",
        "\n",
        "\n",
        "#Geração de bilhetes aleatórios\n",
        "apostas = []\n",
        "for i in range(tentativas) :\n",
        "    random_bet = []\n",
        "    for x in range(50) :\n",
        "        number = np.random.randint(00,99)\n",
        "        while number in random_bet:\n",
        "            number = np.random.randint(00,99)\n",
        "        random_bet.append(number)\n",
        "    apostas.append(random_bet)\n",
        "\n",
        "#Sorteio\n",
        "sorteio = []\n",
        "for x in range(20) :\n",
        "    number = np.random.randint(00,99)\n",
        "    while number in sorteio:\n",
        "        number = np.random.randint(00,99)\n",
        "    sorteio.append(number)\n",
        "\n",
        "#Contagem de acertos\n",
        "acertos=[]\n",
        "for i in range(len(apostas)):\n",
        "    temp_acertos = 0\n",
        "    for y in range(20):\n",
        "        if apostas[i][y] in sorteio:\n",
        "            temp_acertos +=1\n",
        "    acertos.append(temp_acertos)\n",
        "\n",
        "#Histograma de acertos\n",
        "plt.hist(acertos, bins=[16,17,18,19,20], align='mid')\n",
        "plt.show()\n",
        "\n",
        "np_acertos = np.array(acertos)\n",
        "print('Número de bilhetes: ' + str(len(apostas)))\n",
        "print(\"Quantidade de prêmio total (R$2.000.000,00): \" + str(np.count_nonzero(np_acertos ==20)))\n",
        "print('Quantidade de 19 acertos (R$30.000,00): ' + str(np.count_nonzero(np_acertos ==19)))\n",
        "print('Quantidade de 18 acertos (R$1.800,00): ' + str(np.count_nonzero(np_acertos ==18)))\n",
        "print('Quantidade de 17 acertos (R$120,00): ' + str(np.count_nonzero(np_acertos ==17)))\n",
        "print('Quantidade de 16 acerto (R$20,00): ' + str(np.count_nonzero(np_acertos ==16)))\n",
        "print('Quantidade de 0 acertos (R$225.000,00): ' + str(np.count_nonzero(np_acertos ==0)))\n",
        "\n",
        "if np.count_nonzero(np_acertos ==20) >= 1:\n",
        "    premiototal = 2000000\n",
        "premiototal = premiototal + np.count_nonzero(np_acertos ==19)*30000\n",
        "premiototal = premiototal + np.count_nonzero(np_acertos ==18)*1800\n",
        "premiototal = premiototal + np.count_nonzero(np_acertos ==17)*120\n",
        "premiototal = premiototal + np.count_nonzero(np_acertos ==16)*20\n",
        "premiototal = premiototal + np.count_nonzero(np_acertos ==0)*225000\n",
        "\n",
        "\n",
        "print('Prêmio total: R$' + str(premiototal))\n",
        "print('Valor gasto em apostas: R$' + str(tentativas * 3))\n",
        "\n",
        "print('Quantidade de 1 a 15 acertos acumulados: ' + str(np.count_nonzero((np_acertos >=1) & (np_acertos <=15))))\n"
      ]
    }
  ]
}