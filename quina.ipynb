{
  "nbformat": 4,
  "nbformat_minor": 0,
  "metadata": {
    "colab": {
      "provenance": [],
      "authorship_tag": "ABX9TyMHiQ3GtnOBLHY1TSHKCmIw",
      "include_colab_link": true
    },
    "kernelspec": {
      "name": "python3",
      "display_name": "Python 3"
    },
    "language_info": {
      "name": "python"
    }
  },
  "cells": [
    {
      "cell_type": "markdown",
      "metadata": {
        "id": "view-in-github",
        "colab_type": "text"
      },
      "source": [
        "<a href=\"https://colab.research.google.com/github/pauloberenguel/loterias_caixa/blob/main/quina.ipynb\" target=\"_parent\"><img src=\"https://colab.research.google.com/assets/colab-badge.svg\" alt=\"Open In Colab\"/></a>"
      ]
    },
    {
      "cell_type": "code",
      "execution_count": 7,
      "metadata": {
        "colab": {
          "base_uri": "https://localhost:8080/",
          "height": 574
        },
        "id": "4HXKTwOK-SOI",
        "outputId": "28921648-202c-48af-d965-26fd3e81322b"
      },
      "outputs": [
        {
          "output_type": "display_data",
          "data": {
            "text/plain": [
              "<Figure size 640x480 with 1 Axes>"
            ],
            "image/png": "[encoded data removed]"
          },
          "metadata": {}
        },
        {
          "output_type": "stream",
          "name": "stdout",
          "text": [
            "Número de bilhetes: 100000\n",
            "Quantidade de prêmio total (R$3.000,00): 0\n",
            "Quantidade de 4 acertos (R$17.000,00): 1\n",
            "Quantidade de 3 acertos (R$450,00): 124\n",
            "Quantidade de 2 acertos (R$2,50): 2858\n",
            "Prêmio total: R$79945.0\n",
            "Valor gasto em apostas: R$250000.0\n",
            "Quantidade de 0 a 1 acertos acumulados: 97017\n"
          ]
        }
      ],
      "source": [
        "import numpy as np\n",
        "import matplotlib.pyplot as plt\n",
        "\n",
        "tentativas = 100000\n",
        "\n",
        "np.random.seed()\n",
        "\n",
        "\n",
        "#Geração de bilhetes aleatórios\n",
        "apostas = []\n",
        "for i in range(tentativas) :\n",
        "    random_bet = []\n",
        "    for x in range(5) :\n",
        "        number = np.random.randint(1,80)\n",
        "        while number in random_bet:\n",
        "            number = np.random.randint(1,80)\n",
        "        random_bet.append(number)\n",
        "    apostas.append(random_bet)\n",
        "\n",
        "#Sorteio\n",
        "sorteio = []\n",
        "for x in range(5) :\n",
        "    number = np.random.randint(1,80)\n",
        "    while number in sorteio:\n",
        "        number = np.random.randint(1,80)\n",
        "    sorteio.append(number)\n",
        "\n",
        "#Contagem de acertos\n",
        "acertos=[]\n",
        "for i in range(len(apostas)):\n",
        "    temp_acertos = 0\n",
        "    for y in range(5):\n",
        "        if apostas[i][y] in sorteio:\n",
        "            temp_acertos +=1\n",
        "    acertos.append(temp_acertos)\n",
        "\n",
        "#Histograma de acertos\n",
        "plt.hist(acertos, bins=[2,3,4,5], align='mid')\n",
        "plt.show()\n",
        "\n",
        "np_acertos = np.array(acertos)\n",
        "print('Número de bilhetes: ' + str(len(apostas)))\n",
        "print(\"Quantidade de prêmio total (R$3.000,00): \" + str(np.count_nonzero(np_acertos ==5)))\n",
        "print('Quantidade de 4 acertos (R$17.000,00): ' + str(np.count_nonzero(np_acertos ==4)))\n",
        "print('Quantidade de 3 acertos (R$450,00): ' + str(np.count_nonzero(np_acertos ==3)))\n",
        "print('Quantidade de 2 acertos (R$2,50): ' + str(np.count_nonzero(np_acertos ==2)))\n",
        "\n",
        "premiototal = np.count_nonzero(np_acertos ==5)*3000000\n",
        "premiototal = premiototal + np.count_nonzero(np_acertos ==4)*17000\n",
        "premiototal = premiototal + np.count_nonzero(np_acertos ==3)*450\n",
        "premiototal = premiototal + np.count_nonzero(np_acertos ==2)*2.5\n",
        "\n",
        "\n",
        "print('Prêmio total: R$' + str(premiototal))\n",
        "print('Valor gasto em apostas: R$' + str(tentativas * 2.5))\n",
        "\n",
        "print('Quantidade de 0 a 1 acertos acumulados: ' + str(np.count_nonzero(np_acertos <=1)))"
      ]
    }
  ]
}